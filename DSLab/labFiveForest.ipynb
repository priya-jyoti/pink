{
 "cells": [
  {
   "cell_type": "code",
   "execution_count": 4,
   "id": "8b07175a",
   "metadata": {},
   "outputs": [
    {
     "name": "stdout",
     "output_type": "stream",
     "text": [
      "Collecting openpyxl\n",
      "  Downloading openpyxl-3.1.2-py2.py3-none-any.whl (249 kB)\n",
      "\u001b[2K     \u001b[90m━━━━━━━━━━━━━━━━━━━━━━━━━━━━━━━━━━━━━━━\u001b[0m \u001b[32m250.0/250.0 kB\u001b[0m \u001b[31m3.2 MB/s\u001b[0m eta \u001b[36m0:00:00\u001b[0m00:01\u001b[0m00:01\u001b[0m\n",
      "\u001b[?25hCollecting et-xmlfile (from openpyxl)\n",
      "  Downloading et_xmlfile-1.1.0-py3-none-any.whl (4.7 kB)\n",
      "Installing collected packages: et-xmlfile, openpyxl\n",
      "Successfully installed et-xmlfile-1.1.0 openpyxl-3.1.2\n"
     ]
    }
   ],
   "source": []
  },
  {
   "cell_type": "code",
   "execution_count": 5,
   "id": "1413531b",
   "metadata": {},
   "outputs": [],
   "source": [
    "#import section\n",
    "import pandas as pd\n",
    "from sklearn.model_selection import train_test_split,GridSearchCV\n",
    "from sklearn.metrics import *\n",
    "import seaborn as sns\n",
    "import matplotlib.pyplot as plt\n",
    "from sklearn.ensemble import RandomForestClassifier"
   ]
  },
  {
   "cell_type": "code",
   "execution_count": 6,
   "id": "cb29798e",
   "metadata": {},
   "outputs": [
    {
     "name": "stdout",
     "output_type": "stream",
     "text": [
      "<class 'pandas.core.frame.DataFrame'>\n",
      "Index: 109 entries, 1 to 117\n",
      "Data columns (total 15 columns):\n",
      " #   Column      Non-Null Count  Dtype  \n",
      "---  ------      --------------  -----  \n",
      " 0   Unnamed: 0  109 non-null    object \n",
      " 1   Unnamed: 1  109 non-null    object \n",
      " 2   Unnamed: 2  109 non-null    object \n",
      " 3   Unnamed: 3  109 non-null    object \n",
      " 4   A           109 non-null    float64\n",
      " 5   B           109 non-null    float64\n",
      " 6   C           109 non-null    float64\n",
      " 7   D           109 non-null    float64\n",
      " 8   E           109 non-null    float64\n",
      " 9   F           109 non-null    float64\n",
      " 10  G           109 non-null    float64\n",
      " 11  H           109 non-null    float64\n",
      " 12  I           109 non-null    float64\n",
      " 13  J           109 non-null    float64\n",
      " 14  Grade       109 non-null    object \n",
      "dtypes: float64(10), object(5)\n",
      "memory usage: 13.6+ KB\n"
     ]
    }
   ],
   "source": [
    "#read section\n",
    "df=pd.read_excel('dataset/random_forest_dataset.xlsx')\n",
    "df=df.dropna()\n",
    "df=df.iloc[1:]\n",
    "df = df.rename(columns={'Unnamed: 4': 'A','Unnamed: 5': 'B','Unnamed: 6': 'C','Unnamed: 7': 'D','Unnamed: 8': 'E','Unnamed: 9': 'F','Unnamed: 10': 'G','Unnamed: 11': 'H','Unnamed: 12': 'I','Unnamed: 13': 'J','Unnamed: 14': 'Grade'})\n",
    "#df.drop('Unnamed: 0',inplace=True)\n",
    "#df.to_csv('ProcessedRF.csv')\n",
    "df[['A','B','C','D','E','F','G','H','I','J']]=df[['A','B','C','D','E','F','G','H','I','J']].astype(str).astype(float)\n",
    "df.info()"
   ]
  },
  {
   "cell_type": "code",
   "execution_count": 7,
   "id": "c1a00fd7",
   "metadata": {},
   "outputs": [
    {
     "data": {
      "text/html": [
       "<div>\n",
       "<style scoped>\n",
       "    .dataframe tbody tr th:only-of-type {\n",
       "        vertical-align: middle;\n",
       "    }\n",
       "\n",
       "    .dataframe tbody tr th {\n",
       "        vertical-align: top;\n",
       "    }\n",
       "\n",
       "    .dataframe thead th {\n",
       "        text-align: right;\n",
       "    }\n",
       "</style>\n",
       "<table border=\"1\" class=\"dataframe\">\n",
       "  <thead>\n",
       "    <tr style=\"text-align: right;\">\n",
       "      <th></th>\n",
       "      <th>Unnamed: 0</th>\n",
       "      <th>Unnamed: 1</th>\n",
       "      <th>Unnamed: 2</th>\n",
       "      <th>Unnamed: 3</th>\n",
       "      <th>A</th>\n",
       "      <th>B</th>\n",
       "      <th>C</th>\n",
       "      <th>D</th>\n",
       "      <th>E</th>\n",
       "      <th>F</th>\n",
       "      <th>G</th>\n",
       "      <th>H</th>\n",
       "      <th>I</th>\n",
       "      <th>J</th>\n",
       "      <th>Grade</th>\n",
       "    </tr>\n",
       "  </thead>\n",
       "  <tbody>\n",
       "    <tr>\n",
       "      <th>1</th>\n",
       "      <td>1</td>\n",
       "      <td>1RV21MC001</td>\n",
       "      <td>ABHISHEK M</td>\n",
       "      <td>Generative AI Prompt Pipeline</td>\n",
       "      <td>78.0</td>\n",
       "      <td>15.6</td>\n",
       "      <td>85.0</td>\n",
       "      <td>34.0</td>\n",
       "      <td>93.0</td>\n",
       "      <td>18.6</td>\n",
       "      <td>13.0</td>\n",
       "      <td>4.0</td>\n",
       "      <td>35.6</td>\n",
       "      <td>85.2</td>\n",
       "      <td>A</td>\n",
       "    </tr>\n",
       "    <tr>\n",
       "      <th>2</th>\n",
       "      <td>2</td>\n",
       "      <td>1RV21MC002</td>\n",
       "      <td>ABHISHEK RANJANAGOUDA G</td>\n",
       "      <td>Android based Smart Vehicle Parking System usi...</td>\n",
       "      <td>84.0</td>\n",
       "      <td>16.8</td>\n",
       "      <td>82.0</td>\n",
       "      <td>32.8</td>\n",
       "      <td>77.0</td>\n",
       "      <td>15.4</td>\n",
       "      <td>15.0</td>\n",
       "      <td>5.0</td>\n",
       "      <td>35.4</td>\n",
       "      <td>85.0</td>\n",
       "      <td>A</td>\n",
       "    </tr>\n",
       "    <tr>\n",
       "      <th>3</th>\n",
       "      <td>3</td>\n",
       "      <td>1RV21MC003</td>\n",
       "      <td>ADARSH V MORYE</td>\n",
       "      <td>Sentimental Analysis for product ratings</td>\n",
       "      <td>84.0</td>\n",
       "      <td>16.8</td>\n",
       "      <td>82.0</td>\n",
       "      <td>32.8</td>\n",
       "      <td>88.0</td>\n",
       "      <td>17.6</td>\n",
       "      <td>13.0</td>\n",
       "      <td>1.0</td>\n",
       "      <td>31.6</td>\n",
       "      <td>81.2</td>\n",
       "      <td>A</td>\n",
       "    </tr>\n",
       "    <tr>\n",
       "      <th>4</th>\n",
       "      <td>4</td>\n",
       "      <td>1RV21MC004</td>\n",
       "      <td>AISHWARYA K KAMBLE</td>\n",
       "      <td>Analysis and Deployment of an efficient Deep L...</td>\n",
       "      <td>88.0</td>\n",
       "      <td>17.6</td>\n",
       "      <td>85.0</td>\n",
       "      <td>34.0</td>\n",
       "      <td>96.0</td>\n",
       "      <td>19.2</td>\n",
       "      <td>13.0</td>\n",
       "      <td>4.0</td>\n",
       "      <td>36.2</td>\n",
       "      <td>87.8</td>\n",
       "      <td>A</td>\n",
       "    </tr>\n",
       "    <tr>\n",
       "      <th>5</th>\n",
       "      <td>5</td>\n",
       "      <td>1RV21MC005</td>\n",
       "      <td>AISHWARYA NAGARAJ BABALESHWAR</td>\n",
       "      <td>Development of Deep Learning Model for Varied ...</td>\n",
       "      <td>84.0</td>\n",
       "      <td>16.8</td>\n",
       "      <td>82.0</td>\n",
       "      <td>32.8</td>\n",
       "      <td>77.0</td>\n",
       "      <td>15.4</td>\n",
       "      <td>15.0</td>\n",
       "      <td>5.0</td>\n",
       "      <td>35.4</td>\n",
       "      <td>85.0</td>\n",
       "      <td>A</td>\n",
       "    </tr>\n",
       "    <tr>\n",
       "      <th>...</th>\n",
       "      <td>...</td>\n",
       "      <td>...</td>\n",
       "      <td>...</td>\n",
       "      <td>...</td>\n",
       "      <td>...</td>\n",
       "      <td>...</td>\n",
       "      <td>...</td>\n",
       "      <td>...</td>\n",
       "      <td>...</td>\n",
       "      <td>...</td>\n",
       "      <td>...</td>\n",
       "      <td>...</td>\n",
       "      <td>...</td>\n",
       "      <td>...</td>\n",
       "      <td>...</td>\n",
       "    </tr>\n",
       "    <tr>\n",
       "      <th>111</th>\n",
       "      <td>112</td>\n",
       "      <td>1RV21MC117</td>\n",
       "      <td>VIPUL TIWARI</td>\n",
       "      <td>Quality Management in High Voltage Constructio...</td>\n",
       "      <td>70.0</td>\n",
       "      <td>14.0</td>\n",
       "      <td>76.0</td>\n",
       "      <td>30.4</td>\n",
       "      <td>78.0</td>\n",
       "      <td>15.6</td>\n",
       "      <td>12.0</td>\n",
       "      <td>4.0</td>\n",
       "      <td>31.6</td>\n",
       "      <td>76.0</td>\n",
       "      <td>B</td>\n",
       "    </tr>\n",
       "    <tr>\n",
       "      <th>113</th>\n",
       "      <td>114</td>\n",
       "      <td>1RV21MC119</td>\n",
       "      <td>Y S KIRAN KUMAR</td>\n",
       "      <td>Text Summarization Using NLP</td>\n",
       "      <td>92.0</td>\n",
       "      <td>18.4</td>\n",
       "      <td>90.0</td>\n",
       "      <td>36.0</td>\n",
       "      <td>94.0</td>\n",
       "      <td>18.8</td>\n",
       "      <td>13.0</td>\n",
       "      <td>4.0</td>\n",
       "      <td>35.8</td>\n",
       "      <td>90.2</td>\n",
       "      <td>S</td>\n",
       "    </tr>\n",
       "    <tr>\n",
       "      <th>114</th>\n",
       "      <td>115</td>\n",
       "      <td>1RV21MC120</td>\n",
       "      <td>YATHISH L</td>\n",
       "      <td>Immersive Virtual Reality walkthrough of MCA D...</td>\n",
       "      <td>100.0</td>\n",
       "      <td>20.0</td>\n",
       "      <td>100.0</td>\n",
       "      <td>40.0</td>\n",
       "      <td>100.0</td>\n",
       "      <td>20.0</td>\n",
       "      <td>15.0</td>\n",
       "      <td>5.0</td>\n",
       "      <td>40.0</td>\n",
       "      <td>100.0</td>\n",
       "      <td>S</td>\n",
       "    </tr>\n",
       "    <tr>\n",
       "      <th>115</th>\n",
       "      <td>116</td>\n",
       "      <td>1RV20MC031</td>\n",
       "      <td>KAVITHA M</td>\n",
       "      <td>IoT - Gateway dashboard for Greenhouse Automat...</td>\n",
       "      <td>87.0</td>\n",
       "      <td>17.4</td>\n",
       "      <td>92.0</td>\n",
       "      <td>36.8</td>\n",
       "      <td>92.0</td>\n",
       "      <td>18.4</td>\n",
       "      <td>14.0</td>\n",
       "      <td>5.0</td>\n",
       "      <td>37.4</td>\n",
       "      <td>91.6</td>\n",
       "      <td>S</td>\n",
       "    </tr>\n",
       "    <tr>\n",
       "      <th>117</th>\n",
       "      <td>118</td>\n",
       "      <td>1RZ19MCA01</td>\n",
       "      <td>KIRAN N T</td>\n",
       "      <td>Product Recommendation Using Sentiment Analysis</td>\n",
       "      <td>77.0</td>\n",
       "      <td>15.4</td>\n",
       "      <td>80.0</td>\n",
       "      <td>32.0</td>\n",
       "      <td>81.0</td>\n",
       "      <td>16.2</td>\n",
       "      <td>12.0</td>\n",
       "      <td>0.0</td>\n",
       "      <td>28.2</td>\n",
       "      <td>75.6</td>\n",
       "      <td>B</td>\n",
       "    </tr>\n",
       "  </tbody>\n",
       "</table>\n",
       "<p>109 rows × 15 columns</p>\n",
       "</div>"
      ],
      "text/plain": [
       "    Unnamed: 0  Unnamed: 1                     Unnamed: 2  \\\n",
       "1            1  1RV21MC001                     ABHISHEK M   \n",
       "2            2  1RV21MC002        ABHISHEK RANJANAGOUDA G   \n",
       "3            3  1RV21MC003                 ADARSH V MORYE   \n",
       "4            4  1RV21MC004             AISHWARYA K KAMBLE   \n",
       "5            5  1RV21MC005  AISHWARYA NAGARAJ BABALESHWAR   \n",
       "..         ...         ...                            ...   \n",
       "111        112  1RV21MC117                   VIPUL TIWARI   \n",
       "113        114  1RV21MC119                Y S KIRAN KUMAR   \n",
       "114        115  1RV21MC120                      YATHISH L   \n",
       "115        116  1RV20MC031                      KAVITHA M   \n",
       "117        118  1RZ19MCA01                      KIRAN N T   \n",
       "\n",
       "                                            Unnamed: 3      A     B      C  \\\n",
       "1                        Generative AI Prompt Pipeline   78.0  15.6   85.0   \n",
       "2    Android based Smart Vehicle Parking System usi...   84.0  16.8   82.0   \n",
       "3            Sentimental Analysis for product ratings    84.0  16.8   82.0   \n",
       "4    Analysis and Deployment of an efficient Deep L...   88.0  17.6   85.0   \n",
       "5    Development of Deep Learning Model for Varied ...   84.0  16.8   82.0   \n",
       "..                                                 ...    ...   ...    ...   \n",
       "111  Quality Management in High Voltage Constructio...   70.0  14.0   76.0   \n",
       "113                      Text Summarization Using NLP    92.0  18.4   90.0   \n",
       "114  Immersive Virtual Reality walkthrough of MCA D...  100.0  20.0  100.0   \n",
       "115  IoT - Gateway dashboard for Greenhouse Automat...   87.0  17.4   92.0   \n",
       "117   Product Recommendation Using Sentiment Analysis    77.0  15.4   80.0   \n",
       "\n",
       "        D      E     F     G    H     I      J Grade  \n",
       "1    34.0   93.0  18.6  13.0  4.0  35.6   85.2     A  \n",
       "2    32.8   77.0  15.4  15.0  5.0  35.4   85.0     A  \n",
       "3    32.8   88.0  17.6  13.0  1.0  31.6   81.2     A  \n",
       "4    34.0   96.0  19.2  13.0  4.0  36.2   87.8     A  \n",
       "5    32.8   77.0  15.4  15.0  5.0  35.4   85.0     A  \n",
       "..    ...    ...   ...   ...  ...   ...    ...   ...  \n",
       "111  30.4   78.0  15.6  12.0  4.0  31.6   76.0     B  \n",
       "113  36.0   94.0  18.8  13.0  4.0  35.8   90.2     S  \n",
       "114  40.0  100.0  20.0  15.0  5.0  40.0  100.0     S  \n",
       "115  36.8   92.0  18.4  14.0  5.0  37.4   91.6     S  \n",
       "117  32.0   81.0  16.2  12.0  0.0  28.2   75.6     B  \n",
       "\n",
       "[109 rows x 15 columns]"
      ]
     },
     "execution_count": 7,
     "metadata": {},
     "output_type": "execute_result"
    }
   ],
   "source": [
    "df"
   ]
  },
  {
   "cell_type": "code",
   "execution_count": 8,
   "id": "ac360026",
   "metadata": {},
   "outputs": [
    {
     "name": "stdout",
     "output_type": "stream",
     "text": [
      "<class 'pandas.core.frame.DataFrame'>\n",
      "Index: 109 entries, 1 to 117\n",
      "Data columns (total 15 columns):\n",
      " #   Column      Non-Null Count  Dtype  \n",
      "---  ------      --------------  -----  \n",
      " 0   Unnamed: 0  109 non-null    object \n",
      " 1   Unnamed: 1  109 non-null    object \n",
      " 2   Unnamed: 2  109 non-null    object \n",
      " 3   Unnamed: 3  109 non-null    object \n",
      " 4   A           109 non-null    float64\n",
      " 5   B           109 non-null    float64\n",
      " 6   C           109 non-null    float64\n",
      " 7   D           109 non-null    float64\n",
      " 8   E           109 non-null    float64\n",
      " 9   F           109 non-null    float64\n",
      " 10  G           109 non-null    float64\n",
      " 11  H           109 non-null    float64\n",
      " 12  I           109 non-null    float64\n",
      " 13  J           109 non-null    float64\n",
      " 14  Grade       109 non-null    object \n",
      "dtypes: float64(10), object(5)\n",
      "memory usage: 13.6+ KB\n"
     ]
    }
   ],
   "source": [
    "#pre-process section\n",
    "df=df.dropna()\n",
    "df.info()\n",
    "#df.drop(\"Name\")\n",
    "#df=df.select_dtypes(include=[\"number\"])\n"
   ]
  },
  {
   "cell_type": "code",
   "execution_count": 9,
   "id": "b0e116e5",
   "metadata": {},
   "outputs": [
    {
     "data": {
      "text/plain": [
       "109"
      ]
     },
     "execution_count": 9,
     "metadata": {},
     "output_type": "execute_result"
    }
   ],
   "source": [
    "#feature selection\n",
    "ip=df.select_dtypes(include=[\"number\"])\n",
    "ip=df[[\"J\",\"D\",\"C\",\"B\"]]\n",
    "tar=df['Grade']\n",
    "len(ip)"
   ]
  },
  {
   "cell_type": "code",
   "execution_count": 10,
   "id": "c41802dd",
   "metadata": {},
   "outputs": [],
   "source": [
    "# train-test split\n",
    "#15--> best random state for test data\n",
    "#46--> best random state for train data\n",
    "#22--> used state for experiment\n",
    "\n",
    "#train_test_split(ip,tar,test_size=0.2,random_state= 22)\n",
    "iptrain,iptest,tartrain,tartest=train_test_split(ip,tar,test_size=0.2,random_state= 15)"
   ]
  },
  {
   "cell_type": "code",
   "execution_count": 11,
   "id": "e1fb404b",
   "metadata": {},
   "outputs": [
    {
     "name": "stderr",
     "output_type": "stream",
     "text": [
      "/home/ma1581/Downloads/debian/learning/practiceSession/DSLab/.venv/lib/python3.11/site-packages/sklearn/model_selection/_split.py:737: UserWarning: The least populated class in y has only 3 members, which is less than n_splits=5.\n",
      "  warnings.warn(\n"
     ]
    },
    {
     "name": "stderr",
     "output_type": "stream",
     "text": [
      "/home/ma1581/Downloads/debian/learning/practiceSession/DSLab/.venv/lib/python3.11/site-packages/sklearn/model_selection/_validation.py:425: FitFailedWarning: \n",
      "135 fits failed out of a total of 405.\n",
      "The score on these train-test partitions for these parameters will be set to nan.\n",
      "If these failures are not expected, you can try to debug them by setting error_score='raise'.\n",
      "\n",
      "Below are more details about the failures:\n",
      "--------------------------------------------------------------------------------\n",
      "135 fits failed with the following error:\n",
      "Traceback (most recent call last):\n",
      "  File \"/home/ma1581/Downloads/debian/learning/practiceSession/DSLab/.venv/lib/python3.11/site-packages/sklearn/model_selection/_validation.py\", line 729, in _fit_and_score\n",
      "    estimator.fit(X_train, y_train, **fit_params)\n",
      "  File \"/home/ma1581/Downloads/debian/learning/practiceSession/DSLab/.venv/lib/python3.11/site-packages/sklearn/base.py\", line 1145, in wrapper\n",
      "    estimator._validate_params()\n",
      "  File \"/home/ma1581/Downloads/debian/learning/practiceSession/DSLab/.venv/lib/python3.11/site-packages/sklearn/base.py\", line 638, in _validate_params\n",
      "    validate_parameter_constraints(\n",
      "  File \"/home/ma1581/Downloads/debian/learning/practiceSession/DSLab/.venv/lib/python3.11/site-packages/sklearn/utils/_param_validation.py\", line 95, in validate_parameter_constraints\n",
      "    raise InvalidParameterError(\n",
      "sklearn.utils._param_validation.InvalidParameterError: The 'min_samples_leaf' parameter of RandomForestClassifier must be an int in the range [1, inf) or a float in the range (0.0, 1.0). Got 0 instead.\n",
      "\n",
      "  warnings.warn(some_fits_failed_message, FitFailedWarning)\n",
      "/home/ma1581/Downloads/debian/learning/practiceSession/DSLab/.venv/lib/python3.11/site-packages/sklearn/model_selection/_search.py:979: UserWarning: One or more of the test scores are non-finite: [       nan        nan        nan        nan        nan        nan\n",
      "        nan        nan        nan 0.80392157 0.80392157 0.80392157\n",
      " 0.80392157 0.80392157 0.80392157 0.80392157 0.80392157 0.80392157\n",
      " 0.81503268 0.80392157 0.80392157 0.81503268 0.80392157 0.80392157\n",
      " 0.80392157 0.80392157 0.80392157        nan        nan        nan\n",
      "        nan        nan        nan        nan        nan        nan\n",
      " 0.80392157 0.80392157 0.80392157 0.80392157 0.80392157 0.80392157\n",
      " 0.80392157 0.80392157 0.80392157 0.81503268 0.80392157 0.80392157\n",
      " 0.81503268 0.80392157 0.80392157 0.80392157 0.80392157 0.80392157\n",
      "        nan        nan        nan        nan        nan        nan\n",
      "        nan        nan        nan 0.80392157 0.80392157 0.80392157\n",
      " 0.80392157 0.80392157 0.80392157 0.80392157 0.80392157 0.80392157\n",
      " 0.81503268 0.80392157 0.80392157 0.81503268 0.80392157 0.80392157\n",
      " 0.80392157 0.80392157 0.80392157]\n",
      "  warnings.warn(\n"
     ]
    },
    {
     "data": {
      "text/html": [
       "<style>#sk-container-id-1 {color: black;}#sk-container-id-1 pre{padding: 0;}#sk-container-id-1 div.sk-toggleable {background-color: white;}#sk-container-id-1 label.sk-toggleable__label {cursor: pointer;display: block;width: 100%;margin-bottom: 0;padding: 0.3em;box-sizing: border-box;text-align: center;}#sk-container-id-1 label.sk-toggleable__label-arrow:before {content: \"▸\";float: left;margin-right: 0.25em;color: #696969;}#sk-container-id-1 label.sk-toggleable__label-arrow:hover:before {color: black;}#sk-container-id-1 div.sk-estimator:hover label.sk-toggleable__label-arrow:before {color: black;}#sk-container-id-1 div.sk-toggleable__content {max-height: 0;max-width: 0;overflow: hidden;text-align: left;background-color: #f0f8ff;}#sk-container-id-1 div.sk-toggleable__content pre {margin: 0.2em;color: black;border-radius: 0.25em;background-color: #f0f8ff;}#sk-container-id-1 input.sk-toggleable__control:checked~div.sk-toggleable__content {max-height: 200px;max-width: 100%;overflow: auto;}#sk-container-id-1 input.sk-toggleable__control:checked~label.sk-toggleable__label-arrow:before {content: \"▾\";}#sk-container-id-1 div.sk-estimator input.sk-toggleable__control:checked~label.sk-toggleable__label {background-color: #d4ebff;}#sk-container-id-1 div.sk-label input.sk-toggleable__control:checked~label.sk-toggleable__label {background-color: #d4ebff;}#sk-container-id-1 input.sk-hidden--visually {border: 0;clip: rect(1px 1px 1px 1px);clip: rect(1px, 1px, 1px, 1px);height: 1px;margin: -1px;overflow: hidden;padding: 0;position: absolute;width: 1px;}#sk-container-id-1 div.sk-estimator {font-family: monospace;background-color: #f0f8ff;border: 1px dotted black;border-radius: 0.25em;box-sizing: border-box;margin-bottom: 0.5em;}#sk-container-id-1 div.sk-estimator:hover {background-color: #d4ebff;}#sk-container-id-1 div.sk-parallel-item::after {content: \"\";width: 100%;border-bottom: 1px solid gray;flex-grow: 1;}#sk-container-id-1 div.sk-label:hover label.sk-toggleable__label {background-color: #d4ebff;}#sk-container-id-1 div.sk-serial::before {content: \"\";position: absolute;border-left: 1px solid gray;box-sizing: border-box;top: 0;bottom: 0;left: 50%;z-index: 0;}#sk-container-id-1 div.sk-serial {display: flex;flex-direction: column;align-items: center;background-color: white;padding-right: 0.2em;padding-left: 0.2em;position: relative;}#sk-container-id-1 div.sk-item {position: relative;z-index: 1;}#sk-container-id-1 div.sk-parallel {display: flex;align-items: stretch;justify-content: center;background-color: white;position: relative;}#sk-container-id-1 div.sk-item::before, #sk-container-id-1 div.sk-parallel-item::before {content: \"\";position: absolute;border-left: 1px solid gray;box-sizing: border-box;top: 0;bottom: 0;left: 50%;z-index: -1;}#sk-container-id-1 div.sk-parallel-item {display: flex;flex-direction: column;z-index: 1;position: relative;background-color: white;}#sk-container-id-1 div.sk-parallel-item:first-child::after {align-self: flex-end;width: 50%;}#sk-container-id-1 div.sk-parallel-item:last-child::after {align-self: flex-start;width: 50%;}#sk-container-id-1 div.sk-parallel-item:only-child::after {width: 0;}#sk-container-id-1 div.sk-dashed-wrapped {border: 1px dashed gray;margin: 0 0.4em 0.5em 0.4em;box-sizing: border-box;padding-bottom: 0.4em;background-color: white;}#sk-container-id-1 div.sk-label label {font-family: monospace;font-weight: bold;display: inline-block;line-height: 1.2em;}#sk-container-id-1 div.sk-label-container {text-align: center;}#sk-container-id-1 div.sk-container {/* jupyter's `normalize.less` sets `[hidden] { display: none; }` but bootstrap.min.css set `[hidden] { display: none !important; }` so we also need the `!important` here to be able to override the default hidden behavior on the sphinx rendered scikit-learn.org. See: https://github.com/scikit-learn/scikit-learn/issues/21755 */display: inline-block !important;position: relative;}#sk-container-id-1 div.sk-text-repr-fallback {display: none;}</style><div id=\"sk-container-id-1\" class=\"sk-top-container\"><div class=\"sk-text-repr-fallback\"><pre>RandomForestClassifier(max_depth=5, min_samples_leaf=4, n_estimators=50,\n",
       "                       random_state=15)</pre><b>In a Jupyter environment, please rerun this cell to show the HTML representation or trust the notebook. <br />On GitHub, the HTML representation is unable to render, please try loading this page with nbviewer.org.</b></div><div class=\"sk-container\" hidden><div class=\"sk-item\"><div class=\"sk-estimator sk-toggleable\"><input class=\"sk-toggleable__control sk-hidden--visually\" id=\"sk-estimator-id-1\" type=\"checkbox\" checked><label for=\"sk-estimator-id-1\" class=\"sk-toggleable__label sk-toggleable__label-arrow\">RandomForestClassifier</label><div class=\"sk-toggleable__content\"><pre>RandomForestClassifier(max_depth=5, min_samples_leaf=4, n_estimators=50,\n",
       "                       random_state=15)</pre></div></div></div></div></div>"
      ],
      "text/plain": [
       "RandomForestClassifier(max_depth=5, min_samples_leaf=4, n_estimators=50,\n",
       "                       random_state=15)"
      ]
     },
     "execution_count": 11,
     "metadata": {},
     "output_type": "execute_result"
    }
   ],
   "source": [
    "#create model and train data\n",
    "param_grid={\n",
    "    'n_estimators':[50,100,200],\n",
    "    'max_depth':[5,10,20],\n",
    "    'min_samples_split':[2,5,10],\n",
    "    'min_samples_leaf':[0,2,4]\n",
    "}\n",
    "grid_search=GridSearchCV(RandomForestClassifier(random_state=15),param_grid,cv=5,n_jobs=10)\n",
    "grid_search.fit(iptrain,tartrain)\n",
    "best_param=grid_search.best_params_\n",
    "model = RandomForestClassifier(**best_param,random_state=15)\n",
    "model.fit(iptrain, tartrain)"
   ]
  },
  {
   "cell_type": "code",
   "execution_count": 12,
   "id": "b4ccebab",
   "metadata": {},
   "outputs": [
    {
     "data": {
      "text/plain": [
       "0.8505747126436781"
      ]
     },
     "execution_count": 12,
     "metadata": {},
     "output_type": "execute_result"
    }
   ],
   "source": [
    "#model purity/accuracy\n",
    "model.score(iptrain,tartrain)"
   ]
  },
  {
   "cell_type": "code",
   "execution_count": 13,
   "id": "e4817370",
   "metadata": {},
   "outputs": [
    {
     "name": "stdout",
     "output_type": "stream",
     "text": [
      "Accuracy= 0.7727272727272727\n"
     ]
    }
   ],
   "source": [
    "#model accuracy on test data\n",
    "tarpred=model.predict(iptest)\n",
    "print(\"Accuracy=\",accuracy_score(tartest,tarpred))"
   ]
  },
  {
   "cell_type": "code",
   "execution_count": 14,
   "id": "d4f67647",
   "metadata": {},
   "outputs": [
    {
     "data": {
      "text/plain": [
       "<Axes: >"
      ]
     },
     "execution_count": 14,
     "metadata": {},
     "output_type": "execute_result"
    },
    {
     "data": {
      "image/png": "[encoded data removed]",
      "text/plain": [
       "<Figure size 640x480 with 2 Axes>"
      ]
     },
     "metadata": {},
     "output_type": "display_data"
    }
   ],
   "source": [
    "#confusion matrix on test data \n",
    "confmattest=confusion_matrix(tartest,tarpred)\n",
    "sns.heatmap(confmattest,cmap='RdYlGn',annot=True,yticklabels=['S','A','B','C'])"
   ]
  },
  {
   "cell_type": "code",
   "execution_count": 15,
   "id": "cb5900cd",
   "metadata": {},
   "outputs": [
    {
     "name": "stdout",
     "output_type": "stream",
     "text": [
      "['A']\n"
     ]
    },
    {
     "name": "stderr",
     "output_type": "stream",
     "text": [
      "/home/ma1581/Downloads/debian/learning/practiceSession/DSLab/.venv/lib/python3.11/site-packages/sklearn/base.py:465: UserWarning: X does not have valid feature names, but RandomForestClassifier was fitted with feature names\n",
      "  warnings.warn(\n"
     ]
    }
   ],
   "source": [
    "#model accuracy on custom data\n",
    "cusip=[[82,45,17,93]]\n",
    "res=model.predict(cusip)\n",
    "print(res)"
   ]
  },
  {
   "cell_type": "code",
   "execution_count": 16,
   "id": "30521721",
   "metadata": {},
   "outputs": [
    {
     "data": {
      "text/plain": [
       "<Axes: ylabel='None'>"
      ]
     },
     "execution_count": 16,
     "metadata": {},
     "output_type": "execute_result"
    },
    {
     "data": {
      "image/png": "[encoded data removed]",
      "text/plain": [
       "<Figure size 640x480 with 1 Axes>"
      ]
     },
     "metadata": {},
     "output_type": "display_data"
    }
   ],
   "source": [
    "feature=model.feature_importances_\n",
    "sns.barplot(x=feature,y=ip.columns)"
   ]
  },
  {
   "cell_type": "code",
   "execution_count": null,
   "id": "b8447e5d",
   "metadata": {},
   "outputs": [],
   "source": []
  },
  {
   "cell_type": "code",
   "execution_count": null,
   "id": "97de6691",
   "metadata": {},
   "outputs": [],
   "source": []
  },
  {
   "cell_type": "code",
   "execution_count": null,
   "id": "480df4a0",
   "metadata": {},
   "outputs": [],
   "source": []
  },
  {
   "cell_type": "code",
   "execution_count": null,
   "id": "fbbd22d7",
   "metadata": {},
   "outputs": [],
   "source": []
  },
  {
   "cell_type": "code",
   "execution_count": null,
   "id": "4fe572af",
   "metadata": {},
   "outputs": [],
   "source": []
  },
  {
   "cell_type": "code",
   "execution_count": null,
   "id": "1081a528",
   "metadata": {},
   "outputs": [],
   "source": []
  },
  {
   "cell_type": "code",
   "execution_count": null,
   "id": "da3d7af9",
   "metadata": {},
   "outputs": [],
   "source": []
  },
  {
   "cell_type": "code",
   "execution_count": null,
   "id": "0be95af8",
   "metadata": {},
   "outputs": [],
   "source": []
  },
  {
   "cell_type": "code",
   "execution_count": null,
   "id": "397d8529",
   "metadata": {},
   "outputs": [],
   "source": []
  },
  {
   "cell_type": "code",
   "execution_count": null,
   "id": "1f5cf7ad",
   "metadata": {},
   "outputs": [],
   "source": []
  },
  {
   "cell_type": "code",
   "execution_count": null,
   "id": "64616985",
   "metadata": {},
   "outputs": [],
   "source": []
  },
  {
   "cell_type": "code",
   "execution_count": null,
   "id": "403757db",
   "metadata": {},
   "outputs": [],
   "source": []
  },
  {
   "cell_type": "code",
   "execution_count": null,
   "id": "bd04ee32",
   "metadata": {},
   "outputs": [],
   "source": []
  }
 ],
 "metadata": {
  "kernelspec": {
   "display_name": "Python 3 (ipykernel)",
   "language": "python",
   "name": "python3"
  },
  "language_info": {
   "codemirror_mode": {
    "name": "ipython",
    "version": 3
   },
   "file_extension": ".py",
   "mimetype": "text/x-python",
   "name": "python",
   "nbconvert_exporter": "python",
   "pygments_lexer": "ipython3",
   "version": "3.11.2"
  }
 },
 "nbformat": 4,
 "nbformat_minor": 5
}
